{
 "cells": [
  {
   "cell_type": "code",
   "execution_count": 3,
   "metadata": {},
   "outputs": [],
   "source": [
    "import numpy as np\n",
    "import tensorflow as tf\n",
    "from tensorflow.keras import layers, models\n",
    "from tensorflow.keras.datasets import mnist\n",
    "import matplotlib.pyplot as plt\n",
    "\n",
    "\n",
    "##########################################\n",
    "###We implement our method on MNIST ######\n",
    "# We apply the random search to update weights.\n",
    "latent_dim = 8  # Dimensionality of the latent space\n",
    "\n",
    "# Load MNIST dataset\n",
    "(x_train, _), (x_test, _) = mnist.load_data()\n",
    "\n",
    "# Normalize and reshape the data to include a channel dimension\n",
    "x_train = np.expand_dims(x_train, -1).astype('float32') / 255.\n",
    "x_test = np.expand_dims(x_test, -1).astype('float32') / 255.\n",
    "\n",
    "\n",
    "encoder_inputs = layers.Input(shape=(28, 28, 1))\n",
    "x = layers.Conv2D(32, 3, activation='relu', strides=2, padding='same')(encoder_inputs)\n",
    "x = layers.BatchNormalization()(x)\n",
    "x = layers.Conv2D(64, 3, activation='relu', strides=2, padding='same')(x)\n",
    "x = layers.BatchNormalization()(x)\n",
    "x = layers.Flatten()(x)\n",
    "x = layers.Dense(64, activation='relu')(x)\n",
    "x = layers.Dropout(0.25)(x)\n",
    "z = layers.Dense(latent_dim, name='z')(x)\n",
    "encoder = models.Model(encoder_inputs, z, name='encoder')\n",
    "#encoder.summary()\n",
    "\n",
    "latent_inputs = layers.Input(shape=(latent_dim,))\n",
    "x = layers.Dense(7 * 7 * 64, activation='relu')(latent_inputs)\n",
    "x = layers.Reshape((7, 7, 64))(x)\n",
    "x = layers.Conv2DTranspose(64, 3, activation='relu', strides=2, padding='same')(x)\n",
    "x = layers.BatchNormalization()(x)\n",
    "x = layers.Conv2DTranspose(32, 3, activation='relu', strides=2, padding='same')(x)\n",
    "x = layers.BatchNormalization()(x)\n",
    "decoder_outputs = layers.Conv2DTranspose(1, 3, activation='sigmoid', padding='same')(x)\n",
    "decoder = models.Model(latent_inputs, decoder_outputs, name='decoder')\n",
    "#decoder.summary()"
   ]
  },
  {
   "cell_type": "code",
   "execution_count": 4,
   "metadata": {},
   "outputs": [
    {
     "name": "stdout",
     "output_type": "stream",
     "text": [
      "Layer: input_5\n",
      "  Trainable: True\n",
      "  Layer Type: <class 'tensorflow.python.keras.engine.input_layer.InputLayer'>\n",
      "  Number of Trainable Weights: 0\n",
      "\n",
      "Layer: conv2d_4\n",
      "  Trainable: True\n",
      "  Layer Type: <class 'tensorflow.python.keras.layers.convolutional.Conv2D'>\n",
      "  Number of Trainable Weights: 2\n",
      "\n",
      "Layer: batch_normalization_8\n",
      "  Trainable: True\n",
      "  Layer Type: <class 'tensorflow.python.keras.layers.normalization_v2.BatchNormalization'>\n",
      "  Number of Trainable Weights: 2\n",
      "\n",
      "Layer: conv2d_5\n",
      "  Trainable: True\n",
      "  Layer Type: <class 'tensorflow.python.keras.layers.convolutional.Conv2D'>\n",
      "  Number of Trainable Weights: 2\n",
      "\n",
      "Layer: batch_normalization_9\n",
      "  Trainable: True\n",
      "  Layer Type: <class 'tensorflow.python.keras.layers.normalization_v2.BatchNormalization'>\n",
      "  Number of Trainable Weights: 2\n",
      "\n",
      "Layer: flatten_2\n",
      "  Trainable: True\n",
      "  Layer Type: <class 'tensorflow.python.keras.layers.core.Flatten'>\n",
      "  Number of Trainable Weights: 0\n",
      "\n",
      "Layer: dense_4\n",
      "  Trainable: True\n",
      "  Layer Type: <class 'tensorflow.python.keras.layers.core.Dense'>\n",
      "  Number of Trainable Weights: 2\n",
      "\n",
      "Layer: dropout_2\n",
      "  Trainable: True\n",
      "  Layer Type: <class 'tensorflow.python.keras.layers.core.Dropout'>\n",
      "  Number of Trainable Weights: 0\n",
      "\n",
      "Layer: z\n",
      "  Trainable: True\n",
      "  Layer Type: <class 'tensorflow.python.keras.layers.core.Dense'>\n",
      "  Number of Trainable Weights: 2\n",
      "\n"
     ]
    }
   ],
   "source": [
    "# Access all layers in the encoder model\n",
    "for layer in encoder.layers:\n",
    "    print(f\"Layer: {layer.name}\")\n",
    "    print(f\"  Trainable: {layer.trainable}\")\n",
    "    print(f\"  Layer Type: {type(layer)}\")\n",
    "    print(f\"  Number of Trainable Weights: {len(layer.trainable_weights)}\")\n",
    "    print()\n"
   ]
  },
  {
   "cell_type": "code",
   "execution_count": 6,
   "metadata": {},
   "outputs": [
    {
     "name": "stdout",
     "output_type": "stream",
     "text": [
      "Layer: conv2d_4\n",
      "  Weight Name: conv2d_4/kernel:0\n",
      "  Shape: (3, 3, 1, 32)\n",
      "  Weight Name: conv2d_4/bias:0\n",
      "  Shape: (32,)\n",
      "\n",
      "Layer: batch_normalization_8\n",
      "  Weight Name: batch_normalization_8/gamma:0\n",
      "  Shape: (32,)\n",
      "  Weight Name: batch_normalization_8/beta:0\n",
      "  Shape: (32,)\n",
      "\n",
      "Layer: conv2d_5\n",
      "  Weight Name: conv2d_5/kernel:0\n",
      "  Shape: (3, 3, 32, 64)\n",
      "  Weight Name: conv2d_5/bias:0\n",
      "  Shape: (64,)\n",
      "\n",
      "Layer: batch_normalization_9\n",
      "  Weight Name: batch_normalization_9/gamma:0\n",
      "  Shape: (64,)\n",
      "  Weight Name: batch_normalization_9/beta:0\n",
      "  Shape: (64,)\n",
      "\n",
      "Layer: dense_4\n",
      "  Weight Name: dense_4/kernel:0\n",
      "  Shape: (3136, 64)\n",
      "  Weight Name: dense_4/bias:0\n",
      "  Shape: (64,)\n",
      "\n",
      "Layer: z\n",
      "  Weight Name: z/kernel:0\n",
      "  Shape: (64, 8)\n",
      "  Weight Name: z/bias:0\n",
      "  Shape: (8,)\n",
      "\n"
     ]
    }
   ],
   "source": [
    "for layer in encoder.layers:\n",
    "    if layer.trainable_weights:\n",
    "        print(f\"Layer: {layer.name}\")\n",
    "        for weight in layer.trainable_weights:\n",
    "            print(f\"  Weight Name: {weight.name}\")\n",
    "            print(f\"  Shape: {weight.shape}\")\n",
    "        print()\n"
   ]
  },
  {
   "cell_type": "code",
   "execution_count": 7,
   "metadata": {},
   "outputs": [],
   "source": [
    "for layer in encoder.layers:\n",
    "    if layer.trainable_weights:\n",
    "        for weight in layer.trainable_weights:\n",
    "            shape = weight.shape\n",
    "            # For example, add Gaussian noise with mean 0 and stddev 0.01\n",
    "            update_tensor = tf.random.normal(shape, mean=0.0, stddev=0.01)\n",
    "            weight.assign_add(update_tensor)\n"
   ]
  },
  {
   "cell_type": "code",
   "execution_count": 8,
   "metadata": {},
   "outputs": [
    {
     "name": "stdout",
     "output_type": "stream",
     "text": [
      "Layer: conv2d_4\n",
      "  Weight: conv2d_4/kernel:0, Shape: (3, 3, 1, 32)\n",
      "  Updated weight: conv2d_4/kernel:0\n",
      "  Weight: conv2d_4/bias:0, Shape: (32,)\n",
      "  Updated weight: conv2d_4/bias:0\n",
      "\n",
      "Layer: batch_normalization_8\n",
      "  Weight: batch_normalization_8/gamma:0, Shape: (32,)\n",
      "  Updated weight: batch_normalization_8/gamma:0\n",
      "  Weight: batch_normalization_8/beta:0, Shape: (32,)\n",
      "  Updated weight: batch_normalization_8/beta:0\n",
      "\n",
      "Layer: conv2d_5\n",
      "  Weight: conv2d_5/kernel:0, Shape: (3, 3, 32, 64)\n",
      "  Updated weight: conv2d_5/kernel:0\n",
      "  Weight: conv2d_5/bias:0, Shape: (64,)\n",
      "  Updated weight: conv2d_5/bias:0\n",
      "\n",
      "Layer: batch_normalization_9\n",
      "  Weight: batch_normalization_9/gamma:0, Shape: (64,)\n",
      "  Updated weight: batch_normalization_9/gamma:0\n",
      "  Weight: batch_normalization_9/beta:0, Shape: (64,)\n",
      "  Updated weight: batch_normalization_9/beta:0\n",
      "\n",
      "Layer: dense_4\n",
      "  Weight: dense_4/kernel:0, Shape: (3136, 64)\n",
      "  Updated weight: dense_4/kernel:0\n",
      "  Weight: dense_4/bias:0, Shape: (64,)\n",
      "  Updated weight: dense_4/bias:0\n",
      "\n",
      "Layer: z\n",
      "  Weight: z/kernel:0, Shape: (64, 8)\n",
      "  Updated weight: z/kernel:0\n",
      "  Weight: z/bias:0, Shape: (8,)\n",
      "  Updated weight: z/bias:0\n",
      "\n"
     ]
    }
   ],
   "source": [
    "import tensorflow as tf\n",
    "\n",
    "# Iterate over all layers in the encoder\n",
    "for layer in encoder.layers:\n",
    "    # Check if the layer has trainable weights\n",
    "    if layer.trainable_weights:\n",
    "        print(f\"Layer: {layer.name}\")\n",
    "        for weight in layer.trainable_weights:\n",
    "            # Get weight name and shape\n",
    "            weight_name = weight.name\n",
    "            weight_shape = weight.shape\n",
    "            print(f\"  Weight: {weight_name}, Shape: {weight_shape}\")\n",
    "\n",
    "            # Create an update tensor of the same shape\n",
    "            # Here, we use zeros, but you can use any tensor\n",
    "            update_tensor = tf.zeros(weight_shape)\n",
    "\n",
    "            # Update the weight\n",
    "            weight.assign_add(update_tensor)\n",
    "\n",
    "            print(f\"  Updated weight: {weight_name}\")\n",
    "        print()\n"
   ]
  },
  {
   "cell_type": "code",
   "execution_count": 13,
   "metadata": {},
   "outputs": [
    {
     "name": "stdout",
     "output_type": "stream",
     "text": [
      "Layer: conv2d_4\n",
      "  Weight: conv2d_4/kernel:0, Shape: (3, 3, 1, 32)\n",
      "  Weight: conv2d_4/bias:0, Shape: (32,)\n",
      "\n",
      "Layer: batch_normalization_8\n",
      "  Weight: batch_normalization_8/gamma:0, Shape: (32,)\n",
      "  Weight: batch_normalization_8/beta:0, Shape: (32,)\n",
      "\n",
      "Layer: conv2d_5\n",
      "  Weight: conv2d_5/kernel:0, Shape: (3, 3, 32, 64)\n",
      "  Weight: conv2d_5/bias:0, Shape: (64,)\n",
      "\n",
      "Layer: batch_normalization_9\n",
      "  Weight: batch_normalization_9/gamma:0, Shape: (64,)\n",
      "  Weight: batch_normalization_9/beta:0, Shape: (64,)\n",
      "\n",
      "Layer: dense_4\n",
      "  Weight: dense_4/kernel:0, Shape: (3136, 64)\n",
      "  Weight: dense_4/bias:0, Shape: (64,)\n",
      "\n",
      "Layer: z\n",
      "  Weight: z/kernel:0, Shape: (64, 8)\n",
      "  Weight: z/bias:0, Shape: (8,)\n",
      "\n"
     ]
    }
   ],
   "source": [
    "import numpy as np\n",
    "\n",
    "# Dictionary to hold the weights for each layer\n",
    "layer_weights = {}\n",
    "\n",
    "for layer in encoder.layers:\n",
    "    if layer.trainable_weights:\n",
    "        print(f\"Layer: {layer.name}\")\n",
    "        weights = []\n",
    "        for weight_var in layer.trainable_weights:\n",
    "            # Convert the TensorFlow variable to a NumPy array\n",
    "            weight_array = weight_var.numpy()\n",
    "            weights.append(weight_array)\n",
    "            print(f\"  Weight: {weight_var.name}, Shape: {weight_array.shape}\")\n",
    "        # Store the weights in the dictionary\n",
    "        layer_weights[layer.name] = weights\n",
    "        print()\n"
   ]
  },
  {
   "cell_type": "code",
   "execution_count": 19,
   "metadata": {},
   "outputs": [
    {
     "data": {
      "text/plain": [
       "(3, 3, 1, 32)"
      ]
     },
     "execution_count": 19,
     "metadata": {},
     "output_type": "execute_result"
    }
   ],
   "source": [
    "layer_weights['conv2d_4'][0].shape"
   ]
  },
  {
   "cell_type": "code",
   "execution_count": null,
   "metadata": {},
   "outputs": [],
   "source": []
  },
  {
   "cell_type": "code",
   "execution_count": null,
   "metadata": {},
   "outputs": [],
   "source": []
  },
  {
   "cell_type": "code",
   "execution_count": null,
   "metadata": {},
   "outputs": [],
   "source": []
  },
  {
   "cell_type": "code",
   "execution_count": null,
   "metadata": {},
   "outputs": [],
   "source": []
  },
  {
   "cell_type": "code",
   "execution_count": null,
   "metadata": {},
   "outputs": [],
   "source": []
  },
  {
   "cell_type": "code",
   "execution_count": null,
   "metadata": {},
   "outputs": [],
   "source": []
  },
  {
   "cell_type": "code",
   "execution_count": null,
   "metadata": {},
   "outputs": [],
   "source": []
  },
  {
   "cell_type": "code",
   "execution_count": null,
   "metadata": {},
   "outputs": [],
   "source": []
  },
  {
   "cell_type": "code",
   "execution_count": null,
   "metadata": {},
   "outputs": [],
   "source": []
  },
  {
   "cell_type": "code",
   "execution_count": null,
   "metadata": {},
   "outputs": [],
   "source": []
  },
  {
   "cell_type": "code",
   "execution_count": null,
   "metadata": {},
   "outputs": [],
   "source": []
  },
  {
   "cell_type": "code",
   "execution_count": null,
   "metadata": {},
   "outputs": [],
   "source": []
  },
  {
   "cell_type": "code",
   "execution_count": null,
   "metadata": {},
   "outputs": [],
   "source": []
  },
  {
   "cell_type": "code",
   "execution_count": null,
   "metadata": {},
   "outputs": [],
   "source": []
  },
  {
   "cell_type": "code",
   "execution_count": null,
   "metadata": {},
   "outputs": [],
   "source": []
  },
  {
   "cell_type": "code",
   "execution_count": null,
   "metadata": {},
   "outputs": [],
   "source": []
  },
  {
   "cell_type": "code",
   "execution_count": null,
   "metadata": {},
   "outputs": [],
   "source": []
  },
  {
   "cell_type": "code",
   "execution_count": null,
   "metadata": {},
   "outputs": [],
   "source": []
  }
 ],
 "metadata": {
  "kernelspec": {
   "display_name": "py39_tensorfl",
   "language": "python",
   "name": "python3"
  },
  "language_info": {
   "codemirror_mode": {
    "name": "ipython",
    "version": 3
   },
   "file_extension": ".py",
   "mimetype": "text/x-python",
   "name": "python",
   "nbconvert_exporter": "python",
   "pygments_lexer": "ipython3",
   "version": "3.9.19"
  }
 },
 "nbformat": 4,
 "nbformat_minor": 2
}
